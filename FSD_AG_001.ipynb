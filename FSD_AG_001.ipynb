{
  "nbformat": 4,
  "nbformat_minor": 0,
  "metadata": {
    "colab": {
      "provenance": []
    },
    "kernelspec": {
      "name": "python3",
      "display_name": "Python 3"
    },
    "language_info": {
      "name": "python"
    }
  },
  "cells": [
    {
      "cell_type": "markdown",
      "source": [
        "Question 1 : Explain the basic structure of an HTML page. Why is it important to follow this structure?\n",
        "\n",
        "Answer : The basic structure of an HTML page includes the :\n",
        "\n",
        "```\n",
        "<!DOCTYPE html>\n",
        "<html>\n",
        "<head>\n",
        "    <title> -- </title>\n",
        "</head>\n",
        "<body> -- </body>\n",
        "</html>\n",
        "```\n",
        "\n",
        "```<!DOCTYPE html>```\n",
        ": Declaring the Document Type : This declaration represents the document type and helps browsers to display web pages\n",
        "correctly.\n",
        "\n",
        "\n",
        "```<html>``` The Root Element : It represents the root of an HTML document or we can say it is the container for all other HTML elements.\n",
        "\n",
        "\n",
        "```<head>``` Metadata of the Document : This is the head section of the HTML document, which contains meta-information about the document, such as the title of the web page that appears in the browser's title bar or tab.\n",
        "\n",
        "```<body>``` Visible Content of the Webpage : This is the body section of the HTML document, which contains the visible content of the web page, such as headings, paragraphs, and more.\n",
        "\n",
        "\n",
        "Following this structure is important because it ensures the web page is rendered correctly by all web browsers and is accessible to users and search engines. It also makes the code more organized and easier for other developers to read and maintain.\n"
      ],
      "metadata": {
        "id": "6FeMIi0GCliG"
      }
    },
    {
      "cell_type": "markdown",
      "source": [
        "Question 2: You’re building a small personal profile page. Which HTML tags will you use to highlight your name as a heading, describe yourself in a paragraph, and emphasize a key skill?\n",
        "\n",
        "Answer : For my personal profile page, I'll use the following tags:\n",
        "\n",
        "- To highlight my name as a heading, I would use the `<h1>` tag: `<h1>Raj Singh\n",
        "h1>`.\n",
        "\n",
        "- To describe myself in a paragraph, I would use the `<p> `tag: `<p>I am a web developer with a passion for designing Frontend</p>`.\n",
        "\n",
        "- To emphasize a key skill, I would use the `<strong>` tag within the paragraph: `<p>My key skill is **HTML**.</p>`."
      ],
      "metadata": {
        "id": "KkhOV7fvCsUE"
      }
    },
    {
      "cell_type": "markdown",
      "source": [
        "Question 3: Look at the code below. Can you find and fix the mistake?\n",
        "\n",
        "```\n",
        "<!-- This is an HTML comment\n",
        "<h1>Welcome to my website</h1>\n",
        "```\n",
        "\n",
        "Answer : The mistake in the provided code is that the HTML comment is not properly closed.  The provided code is missing the closing hyphens on the comment tag. ```\n",
        "--!>```\n",
        "\n",
        "\n",
        "Corrected Code:\n",
        "```\n",
        "<!-- This is an HTML comment--!>\n",
        "<h1>Welcome to my website</h1>\n",
        "```\n"
      ],
      "metadata": {
        "id": "p5hyBI_8DsU7"
      }
    },
    {
      "cell_type": "markdown",
      "source": [
        "Question 4: You’re creating a form that asks the user to enter their name, select their country from a list, and click a button to submit. Write the HTML code for this.\n",
        "\n",
        "Answer : For this the code is as written below :\n",
        "\n",
        "\n",
        "\n",
        "```\n",
        "<!DOCTYPE html>\n",
        "<html>\n",
        "<head>\n",
        "  <title>Answer 04</title>\n",
        "</head>\n",
        "<body>\n",
        "  <h1>User Information Form</h1>\n",
        "  <form>\n",
        "    <!-- Label and input for the user's name -->\n",
        "    <label for=\"name\">Name:</label><br>\n",
        "    <input type=\"text\" id=\"name\" name=\"name\"><br><br>\n",
        "    \n",
        "    <!-- Label and dropdown list for selecting a country -->\n",
        "    <label for=\"country\">Country:</label><br>\n",
        "    <select id=\"country\" name=\"country\">\n",
        "      <option value=\"usa\">United States</option>\n",
        "      <option value=\"india\">India</option>\n",
        "      <option value=\"canada\">Canada</option>\n",
        "      <option value=\"uk\">United Kingdom</option>\n",
        "      <option value=\"australia\">Australia</option>\n",
        "    </select><br><br>\n",
        "    \n",
        "    <!-- Submit button for the form -->\n",
        "    <button type=\"submit\">Submit</button>\n",
        "  </form>\n",
        "</body>\n",
        "</html>\n",
        "```\n",
        "\n"
      ],
      "metadata": {
        "id": "WelrQXaJE5xH"
      }
    },
    {
      "cell_type": "markdown",
      "source": [
        "Question 5: Write short HTML code to show your favorite fruits in a bulleted list and your top 3 programming languages in a numbered list.\n",
        "\n",
        "Answer : Here I am writing the code :\n",
        "\n",
        "```\n",
        "<!DOCTYPE html>\n",
        "<html>\n",
        "<head>\n",
        "  <title>Answer 05</title>\n",
        "</head>\n",
        "<body>\n",
        "  <h1>Question 5: Lists</h1>\n",
        "  <h3>My Favorite Fruits (Bulleted List)</h3>\n",
        "  <ul>\n",
        "    <li>Apple</li>\n",
        "    <li>Mango</li>\n",
        "    <li>Banana</li>\n",
        "  </ul>\n",
        "  <h3>Top 3 Programming Languages (Numbered List)</h3>\n",
        "  <ol>\n",
        "    <li>Python</li>\n",
        "    <li>JavaScript</li>\n",
        "    <li>Java</li>\n",
        "  </ol>\n",
        "</body>\n",
        "</html>\n",
        "\n",
        "```\n",
        "\n",
        "\n"
      ],
      "metadata": {
        "id": "rEm0TqokGKjo"
      }
    },
    {
      "cell_type": "markdown",
      "source": [
        "Question 6: Ravi wants to leave a note in his HTML file so that only other developers can see it, not the users on the website. How should he do this? Why are such notes useful?\n",
        "\n",
        "Answer : Ravi should use an HTML comment to leave a note in his file. HTML comments begin with `<!-- `and end with `-->`. Any text or code placed inside these tags is ignored by the web browser and is not displayed on the webpage.\n",
        "\n",
        "These notes are useful because :\n",
        "- They help break up sections of code and explain what different parts do.\n",
        "\n",
        "- They can explain complex or non-obvious code, making it easier for other developers (or Ravi himself in the future) to understand the logic.\n",
        "\n",
        "- Developers can temporarily \"comment out\" a block of code to test a change without permanently deleting the code."
      ],
      "metadata": {
        "id": "OlfP0kuJHSst"
      }
    },
    {
      "cell_type": "markdown",
      "source": [
        "Question 7: Here’s a form snippet. Can you spot the error and rewrite the correct version?\n",
        "\n",
        "\n",
        "\n",
        "```\n",
        "<form>\n",
        " <input name=\"email\">\n",
        " <select>\n",
        " <option>India</option>\n",
        " </select>\n",
        " <button>Send</buton>\n",
        "</form>\n",
        "```\n",
        "\n",
        "\n",
        "Answer : The correct code will be :\n",
        "\n",
        "\n",
        "\n",
        "```\n",
        "<form>\n",
        "  <input name=\"email\">\n",
        "  <select>\n",
        "    <option>India</option>\n",
        "  </select>\n",
        "  <button>Send</button>\n",
        "</form>\n",
        "\n",
        "```\n",
        "\n",
        "The mistake was in ```</buton>``` after correcting it become ```</button>```\n",
        "\n"
      ],
      "metadata": {
        "id": "ZLebnI_qIMrd"
      }
    }
  ]
}