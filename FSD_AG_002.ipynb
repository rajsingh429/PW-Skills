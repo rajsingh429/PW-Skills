{
  "nbformat": 4,
  "nbformat_minor": 0,
  "metadata": {
    "colab": {
      "provenance": []
    },
    "kernelspec": {
      "name": "python3",
      "display_name": "Python 3"
    },
    "language_info": {
      "name": "python"
    }
  },
  "cells": [
    {
      "cell_type": "markdown",
      "source": [
        "Assignment Code: FSD-AG-002\n",
        "\n",
        "Introduction to Python: Basics and Data Structures"
      ],
      "metadata": {
        "id": "Y_PoMMj_NQx6"
      }
    },
    {
      "cell_type": "markdown",
      "source": [
        "Question 1 : What are semantic HTML elements? Why is using them important for web development?\n",
        "\n",
        "Answer : Semantic HTML elements are HTML tags that clearly and accurately describe their meaning and the type of content they contain to both the browser and the developer.\n",
        "\n",
        "Importance of Using Semantic HTML:\n",
        "- Accessibility: Semantic tags provide essential context for assistive technologies like screen readers.\n",
        "-  Search Engine Optimization (SEO) : Search engines like Google analyze the HTML structure of a page to understand its content and rank it in search results. Using semantic tags helps search engine crawlers correctly identify the important parts of your content.\n",
        "- Code Readability and Maintainability : Semantic HTML makes the code much easier for developers to read and understand. When you or another developer revisits the code, a well-structured document using tags like <section>, `<article>`, and `<aside>` is self-explanatory.\n",
        "\n",
        "Example :\n",
        "\n",
        "```\n",
        "<header>...</header>\n",
        "<main>\n",
        "  <article>...</article>\n",
        "</main>\n",
        "<footer>...</footer>\n",
        "```\n",
        "\n"
      ],
      "metadata": {
        "id": "nccZyIOtNimZ"
      }
    },
    {
      "cell_type": "markdown",
      "source": [
        "Question 2: You're designing a blog page. Which semantic elements would you use to structure the page, and why?\n",
        "\n",
        "Answer : I would use specific semantic elements to create a structure that is logical, accessible, and optimized for search engines. My goal is to make the document's outline clear just by looking at the HTML tags.\n",
        "\n",
        " I would structure the page in this manner :\n",
        "\n",
        " - `<header>`: At the very top, I'd use the `<header>` element for the banner section.\n",
        "\n",
        " - `<nav>`: Nested inside the `<header>`, I'd place the main list of navigation links (e.g., \"Home,\" \"Categories,\" \"About,\" \"Contact\") inside a` <nav>` tag.\n",
        "\n",
        " - `<main>`: This is a critical tag. I would wrap the central content of the page—the blog post itself—in the` <main> `element. T\n",
        "\n",
        "-  `<article>`: The blog post itself would be enclosed in an `<article>` tag. This is the perfect choice because a blog post is a self-contained, independent piece of content that could be syndicated or distributed on its own.\n",
        "\n",
        "- `<aside>`: If the design includes a sidebar, I'd use the `<aside>` element.\n",
        "\n",
        "- `<footer>`: At the bottom of the page, I would use a` <footer> `to contain information like copyright notices, social media links, and other site-wide closing details."
      ],
      "metadata": {
        "id": "mmTx_4LPj-B_"
      }
    },
    {
      "cell_type": "markdown",
      "source": [
        "Question 3: How can you make an HTML form more accessible to users with\n",
        "disabilities?\n",
        "\n",
        "Answer : When building an HTML form, I focus on several key practices to ensure it's accessible to everyone, especially users relying on assistive technologies like screen readers.\n",
        "\n",
        "- Use `<label>` for Every Input :\n",
        " I always connect every form control `(<input>, <textarea>, <select>) `to a corresponding `<label>` element. I use the for attribute on the label and match it with the id of the input.\n",
        "\n",
        "This explicit association is critical because it allows a screen reader to announce the label's text when the user focuses on the form field, providing necessary context. It also benefits users with motor impairments by making the label itself clickable to focus the input field.\n",
        "\n",
        "\n",
        "-  Group Related Fields with `<fieldset> `and `<legend> ` :  When I have a group of related controls, like a set of radio buttons or a \"shipping address\" section, I wrap them in a `<fieldset>` element. I then use a `<legend> `element as the first child of the `<fieldset> `to provide a caption for the entire group.\n",
        "\n",
        "- Provide Clear Instructions and Error Messages : I make sure instructions are clear and error messages are helpful. For errors, I don't just rely on changing the color of the field's border. I provide a clear, text-based message explaining what went wrong and how to fix it.\n",
        "\n",
        "- Ensure Keyboard Accessibility :\n",
        "I test every form to ensure it can be fully navigated and operated using only the keyboard. This includes:\n",
        "1. A logical and predictable tab order between fields.\n",
        "\n",
        "2. Ensuring all controls, especially custom ones, are focusable.\n",
        "\n",
        "3. Allowing users to activate buttons by pressing Enter or the Spacebar"
      ],
      "metadata": {
        "id": "U20fI8kGngeA"
      }
    },
    {
      "cell_type": "markdown",
      "source": [
        "Question 4: Identify and correct the errors in the following CSS code:\n",
        "\n",
        "```\n",
        "p {\n",
        " font-size: 16;\n",
        " color: #333\n",
        " margin-top 10px;\n",
        "}\n",
        "```\n",
        "Answer :\n",
        "\n",
        "Corrected Code :\n",
        "\n",
        "```\n",
        "p {\n",
        "    font-size: 16px;\n",
        "    color: #333;\n",
        "    margin-top: 10px;\n",
        "}\n",
        "```\n",
        "\n",
        "\n"
      ],
      "metadata": {
        "id": "s-MsBYE1u4b6"
      }
    },
    {
      "cell_type": "markdown",
      "source": [
        "Question 5: Write CSS rules to style all` <h2>` elements inside a `<section> `with a blue color and center alignment.\n",
        "\n",
        "Answer : This is the css rule for it:\n",
        "\n",
        "```\n",
        "header h2 {\n",
        "    color: blue;\n",
        "    text-align: center;\n",
        "}\n",
        "```\n",
        "\n"
      ],
      "metadata": {
        "id": "8yoroYyGvaxp"
      }
    },
    {
      "cell_type": "markdown",
      "source": [
        "Question 6: Explain the CSS box model and its components?\n",
        "\n",
        "Answer :The CSS box model is a fundamental concept that treats every HTML element as a rectangular box. This box is made up of four distinct layers: the content, padding, border, and margin. Understanding how these layers work together is essential for controlling layout and spacing on a web page.\n",
        "\n",
        "Here are the four components of the box, ordered from the inside out:\n",
        "\n",
        "- `Content` : This is the innermost area where your actual content—like text, images, or videos—is displayed. You control its size with the width and height properties.\n",
        "\n",
        "- `Padding `: This is the transparent space directly surrounding the content, clearing an area between the content and the border. Think of it as the \"breathing room\" for the content inside the box.\n",
        "\n",
        "- `Border `: This is the line that goes around the padding and content. You can style its thickness, color, and style (e.g., solid, dashed).\n",
        "\n",
        "- `Margin` : This is the outermost layer. It's the transparent space outside the border that separates the element from other elements on the page. It's used to create space between neighboring boxes."
      ],
      "metadata": {
        "id": "M7daiGPVwN7U"
      }
    },
    {
      "cell_type": "markdown",
      "source": [
        "Question 7: How do the relative, absolute, and fixed positioning properties differ in CSS?\n",
        "\n",
        "Answer : In CSS, the position property determines how an element is placed in a document. The main difference between relative, absolute, and fixed positioning lies in the reference point they use for placement and how they interact with the normal flow of the page.\n",
        "\n",
        "- `Relative Position` :\n",
        "An element with `position: relative` is positioned in relation to itself, stays in the normal page flow, and scrolls with the page.\n",
        "\n",
        "- `Absolute Position` :\n",
        "An element with `position: absolute` is positioned in relation to its nearest positioned ancestor, is removed from the page flow, and scrolls with its parent.\n",
        "\n",
        "- `Fixed Position` :\n",
        "An element with `position: fixed` is positioned in relation to the browser window, is removed from the page flow, and does not move when the page is scrolled."
      ],
      "metadata": {
        "id": "Dgkd-SzDw9I5"
      }
    },
    {
      "cell_type": "markdown",
      "source": [
        "Question 8: Write a CSS rule to set a background image for a` <div>` with the class .banner, ensuring the image covers the entire area without repeating.\n",
        "\n",
        "\n",
        "\n",
        "Answer : Here is the code for it :\n",
        "\n",
        "\n",
        "\n",
        "```\n",
        ".banner {\n",
        "    \n",
        "    background-image: url('path/c/user/rajimg.jpg');\n",
        "\n",
        "    background-repeat: no-repeat;\n",
        "\n",
        "    background-size: cover;\n",
        "\n",
        "    background-position: center;\n",
        "}\n",
        "```\n",
        "\n"
      ],
      "metadata": {
        "id": "-4i7Sr5nysb1"
      }
    }
  ]
}